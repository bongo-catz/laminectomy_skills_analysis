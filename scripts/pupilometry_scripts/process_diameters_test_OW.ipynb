{
 "cells": [
  {
   "cell_type": "code",
   "execution_count": 1,
   "metadata": {},
   "outputs": [],
   "source": [
    "import pandas as pd\n",
    "import numpy as np\n",
    "import matplotlib.pyplot as plt"
   ]
  },
  {
   "cell_type": "code",
   "execution_count": 2,
   "metadata": {},
   "outputs": [
    {
     "name": "stdout",
     "output_type": "stream",
     "text": [
      "   eye_id     timestamp       topic  confidence  diameter_2d [px]  \\\n",
      "0       0  4.865066e+03  pupil.0.2d    0.877998         16.518002   \n",
      "1       0  4.865066e+03  pupil.0.3d    0.877998         16.505646   \n",
      "2       1  1.667587e+09  pupil.1.2d    1.000000         14.709395   \n",
      "3       1  1.667587e+09  pupil.1.3d    1.000000         14.855650   \n",
      "4       0  1.667587e+09  pupil.0.2d    0.829097         16.448112   \n",
      "\n",
      "   diameter_3d [mm]  \n",
      "0          0.000000  \n",
      "1          3.509563  \n",
      "2          0.000000  \n",
      "3          0.432909  \n",
      "4          0.000000  \n"
     ]
    }
   ],
   "source": [
    "csv_file_path = \"/Users/orenw/Documents/tb_skills_analysis/data/SDF_UserStudy_Data/extracted_diameter_test.csv\"\n",
    "df = pd.read_csv(csv_file_path)\n",
    "df_head = df.head()\n",
    "print(df_head)"
   ]
  },
  {
   "cell_type": "code",
   "execution_count": 4,
   "metadata": {},
   "outputs": [
    {
     "name": "stdout",
     "output_type": "stream",
     "text": [
      "    eye_id     timestamp       topic  confidence  diameter_2d [px]  \\\n",
      "3        1  1.667587e+09  pupil.1.3d    1.000000         14.855650   \n",
      "5        0  1.667587e+09  pupil.0.3d    0.829097         16.412222   \n",
      "7        1  1.667587e+09  pupil.1.3d    0.793252         15.186089   \n",
      "9        0  1.667587e+09  pupil.0.3d    0.934268         18.012149   \n",
      "11       1  1.667587e+09  pupil.1.3d    0.971440         15.137038   \n",
      "\n",
      "    diameter_3d [mm]  time_seconds  \n",
      "3           0.432909           0.0  \n",
      "5           3.491798           0.0  \n",
      "7           0.436671           0.0  \n",
      "9           3.833780           0.0  \n",
      "11          0.436753           0.0  \n"
     ]
    }
   ],
   "source": [
    "# Get the value of the timestamp in the fifth row\n",
    "fifth_row_timestamp = df['timestamp'].iloc[4]\n",
    "\n",
    "# Check if any of the first four rows have a timestamp that differs from the fifth row by more than 1000\n",
    "rows_to_delete = df['timestamp'].iloc[:4].apply(lambda x: abs(x - fifth_row_timestamp) > 1000)\n",
    "\n",
    "# Delete those rows\n",
    "df = df.drop(df.index[:4][rows_to_delete])\n",
    "\n",
    "# Ensure the 'topic' column is treated as strings and handle NaN values\n",
    "df['topic'] = df['topic'].astype(str)\n",
    "\n",
    "# Filter out rows where the topic contains \"2d\"\n",
    "df = df[~df['topic'].str.contains('2d')]\n",
    "\n",
    "# Remove rows in which both diameters are 0 or when 3d is 0\n",
    "df = df[~((df['diameter_2d [px]'] == 0) & (df['diameter_3d [mm]'] == 0))]\n",
    "df = df[~((df['diameter_3d [mm]'] == 0))]\n",
    "\n",
    "\n",
    "# Treat the first timestamp as t=0 seconds and calculate time in seconds\n",
    "start_time = df['timestamp'].min()\n",
    "df['time_seconds'] = df['timestamp'] - start_time\n",
    "\n",
    "df_head = df.head()\n",
    "print(df_head)"
   ]
  }
 ],
 "metadata": {
  "kernelspec": {
   "display_name": "base",
   "language": "python",
   "name": "python3"
  },
  "language_info": {
   "codemirror_mode": {
    "name": "ipython",
    "version": 3
   },
   "file_extension": ".py",
   "mimetype": "text/x-python",
   "name": "python",
   "nbconvert_exporter": "python",
   "pygments_lexer": "ipython3",
   "version": "3.8.8"
  }
 },
 "nbformat": 4,
 "nbformat_minor": 2
}
